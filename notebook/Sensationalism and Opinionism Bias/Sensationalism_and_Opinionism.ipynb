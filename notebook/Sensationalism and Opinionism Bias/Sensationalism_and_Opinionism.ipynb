{
  "cells": [
    {
      "cell_type": "code",
      "execution_count": null,
      "metadata": {
        "id": "IdTAd5uA5rC4"
      },
      "outputs": [],
      "source": [
        "import pandas as pd"
      ]
    },
    {
      "cell_type": "code",
      "execution_count": null,
      "metadata": {
        "id": "Zwa6IGfv6H7l"
      },
      "outputs": [],
      "source": [
        "data = pd.read_csv(\"/content/drive/MyDrive/Sensationalism and Opinionism (Fake News) detection/Training.csv\")"
      ]
    },
    {
      "cell_type": "code",
      "source": [
        "X[1000], y[1000]"
      ],
      "metadata": {
        "colab": {
          "base_uri": "https://localhost:8080/"
        },
        "id": "V8L2vZ2ta2Jw",
        "outputId": "b7014d30-8eef-4ed9-83e7-75245654f722"
      },
      "execution_count": null,
      "outputs": [
        {
          "output_type": "execute_result",
          "data": {
            "text/plain": [
              "('GENEVA (Reuters) - President Bashar al-Assad and his family have no role in the future of Syria, U.S. Secretary of State Rex Tillerson said on Thursday ahead of peace talks aiming at a political transition scheduled to resume next month. Tillerson said that the Trump administration backed the Geneva peace talks as the only way to end the more than six-year-old war and move to a political transition and elections. He was speaking after holding talks with U.N. Special Envoy for Syria Staffan de Mistura, who announced that stalled peace talks between the Syrian government and still-to-be-united opposition would resume in Geneva on Nov. 28. “The United States wants a whole and unified Syria with no role for Bashar al-Assad in the government,” Tillerson told reporters in the Swiss city at the end of a week-long trip that took him to Saudi Arabia, Qatar, Pakistan and India. “It is our view and I have said this many times as well that we do not believe that there is a future for the Assad regime and Assad family. The reign of the Assad family is coming to an end. The only issue is how that should that be brought about.”\\xa0 When the Trump administration came into office it took the view that it was “not a prerequisite that Assad goes” before the transitional process started, he added. Supported by Russian air power and Iran-backed militias, Assad appears militarily unassailable and last month Assad ally Hezbollah declared victory in the Syrian war.    Those forces have pushed Islamic State back from large swathes of eastern Syria in recent months and over the past year have taken numerous pockets of rebel-held territory around Aleppo, Homs and Damascus. “My reading is that Assad is here to stay for as long as the Russians and the Iranians have no alternative to him,” a Western diplomat told Reuters. “The date of his departure will depend on the Russians more than anyone else. Once - or if - they find someone better, he may go.” Ceasefire deals brokered by Russia, Turkey, Iran and the United States in remaining rebel-held areas of western Syria have freed up manpower for Assad’s allies. Tillerson called his discussions with de Mistura “fruitful” and said the United States will “continue our efforts to de-escalate the violence in Syria”. He said the only reason Assad’s forces had succeeded in turning the tide in the war against Islamic State and other militants was “air support they have received from Russia”. Tillerson said Iran, Assad’s other main ally, should not be seen as having made the difference in the defeat of Islamic State in Syria. “I do not see Syria as a triumph for Iran. I see Iran as a hanger-on. I don’t think that Iran should be given credit for the defeat of ISIS (Islamic State) In Syria. Rather I think they have taken advantage of the situation.” ',\n",
              " np.int64(1))"
            ]
          },
          "metadata": {},
          "execution_count": 144
        }
      ]
    },
    {
      "cell_type": "code",
      "execution_count": null,
      "metadata": {
        "colab": {
          "base_uri": "https://localhost:8080/",
          "height": 178
        },
        "id": "GIeymyHQ6Pra",
        "outputId": "40562230-7860-436f-9399-b5dbaaea6168"
      },
      "outputs": [
        {
          "output_type": "execute_result",
          "data": {
            "text/plain": [
              "label\n",
              "Real    42608\n",
              "Fake    40931\n",
              "Name: count, dtype: int64"
            ],
            "text/html": [
              "<div>\n",
              "<style scoped>\n",
              "    .dataframe tbody tr th:only-of-type {\n",
              "        vertical-align: middle;\n",
              "    }\n",
              "\n",
              "    .dataframe tbody tr th {\n",
              "        vertical-align: top;\n",
              "    }\n",
              "\n",
              "    .dataframe thead th {\n",
              "        text-align: right;\n",
              "    }\n",
              "</style>\n",
              "<table border=\"1\" class=\"dataframe\">\n",
              "  <thead>\n",
              "    <tr style=\"text-align: right;\">\n",
              "      <th></th>\n",
              "      <th>count</th>\n",
              "    </tr>\n",
              "    <tr>\n",
              "      <th>label</th>\n",
              "      <th></th>\n",
              "    </tr>\n",
              "  </thead>\n",
              "  <tbody>\n",
              "    <tr>\n",
              "      <th>Real</th>\n",
              "      <td>42608</td>\n",
              "    </tr>\n",
              "    <tr>\n",
              "      <th>Fake</th>\n",
              "      <td>40931</td>\n",
              "    </tr>\n",
              "  </tbody>\n",
              "</table>\n",
              "</div><br><label><b>dtype:</b> int64</label>"
            ]
          },
          "metadata": {},
          "execution_count": 3
        }
      ],
      "source": [
        "data['label'].value_counts()"
      ]
    },
    {
      "cell_type": "code",
      "execution_count": null,
      "metadata": {
        "id": "vlVsIyan6d6n"
      },
      "outputs": [],
      "source": [
        "def change_labels(val):\n",
        "  if val == \"Real\":\n",
        "     return \"Low\"\n",
        "  else:\n",
        "    return \"High\""
      ]
    },
    {
      "cell_type": "code",
      "execution_count": null,
      "metadata": {
        "id": "Fomon92070A0"
      },
      "outputs": [],
      "source": [
        "data['new_label'] = data['label'].apply(change_labels)"
      ]
    },
    {
      "cell_type": "code",
      "execution_count": null,
      "metadata": {
        "id": "cmSHofs98Mil"
      },
      "outputs": [],
      "source": [
        "X = data['Text']\n",
        "y = data['new_label']"
      ]
    },
    {
      "cell_type": "code",
      "execution_count": null,
      "metadata": {
        "id": "FSFfmETb9d6X"
      },
      "outputs": [],
      "source": [
        "base_path = \"/content/drive/MyDrive/Sensationalism and Opinionism (Fake News) detection/\""
      ]
    },
    {
      "cell_type": "code",
      "execution_count": null,
      "metadata": {
        "colab": {
          "base_uri": "https://localhost:8080/",
          "height": 907
        },
        "id": "fgEjwtfu9NHF",
        "outputId": "3f481a43-ad69-421f-8ed3-cd0f4b7af270"
      },
      "outputs": [
        {
          "output_type": "display_data",
          "data": {
            "text/plain": [
              "<Figure size 640x480 with 1 Axes>"
            ],
            "image/png": "[encoded data removed]"
          },
          "metadata": {}
        },
        {
          "output_type": "display_data",
          "data": {
            "text/plain": [
              "<Figure size 640x480 with 1 Axes>"
            ],
            "image/png": "[encoded data removed]"
          },
          "metadata": {}
        }
      ],
      "source": [
        "import matplotlib.pyplot as plt\n",
        "import os\n",
        "\n",
        "os.makedirs(os.path.join(base_path, \"images\"), exist_ok=True)\n",
        "fig_path = os.path.join(base_path, \"images\")\n",
        "\n",
        "\n",
        "lengths = [len(text.split()) for text in X]\n",
        "plt.hist(lengths, bins=500)\n",
        "plt.xlabel(\"Text Length\")\n",
        "plt.ylabel(\"Frequency\")\n",
        "plt.title(\"Text Length Distribution\")\n",
        "plt.savefig(f\"{fig_path}/TextLength_Frequency_Distribution\")\n",
        "plt.show()\n",
        "\n",
        "\n",
        "import matplotlib.pyplot as plt\n",
        "lengths = [len(text.split()) for text in X]\n",
        "plt.boxplot(lengths)\n",
        "plt.ylabel(\"Text Length\")\n",
        "plt.title(\"Box Plot for text length\")\n",
        "plt.savefig(f\"{fig_path}/BoxPlot_for_text_length\")\n",
        "plt.show()"
      ]
    },
    {
      "cell_type": "code",
      "execution_count": null,
      "metadata": {
        "id": "bn9Ewa2w9ohz"
      },
      "outputs": [],
      "source": [
        "from sklearn.preprocessing import LabelEncoder\n",
        "from tensorflow.keras.utils import to_categorical\n",
        "label_encoder = LabelEncoder()\n",
        "y = label_encoder.fit_transform(data['new_label'])"
      ]
    },
    {
      "cell_type": "code",
      "execution_count": null,
      "metadata": {
        "colab": {
          "base_uri": "https://localhost:8080/"
        },
        "id": "VgZ9Yw2O9-cr",
        "outputId": "3d5a8fd4-ee60-400f-e3e8-f4719a0b58de"
      },
      "outputs": [
        {
          "output_type": "execute_result",
          "data": {
            "text/plain": [
              "array(['High', 'Low'], dtype=object)"
            ]
          },
          "metadata": {},
          "execution_count": 10
        }
      ],
      "source": [
        "label_encoder.classes_"
      ]
    },
    {
      "cell_type": "code",
      "execution_count": null,
      "metadata": {
        "id": "H4-DyBeN-AjU"
      },
      "outputs": [],
      "source": [
        "def load_glove_embeddings(glove_path, word_index, embedding_dim=100):\n",
        "    \"\"\"\n",
        "      GloVe Embeddings maker: It takes the word index and uses glove 6B 100 dimensions corpus to generate embeddings!\n",
        "\n",
        "      Args:\n",
        "        glove_path (string): path to the glove file\n",
        "        word_index (dictionary): word indexes generated after tokenization\n",
        "        embedding_dimensions (int): in this case 100 as we use 100 dimensions corpus\n",
        "\n",
        "      Returns\n",
        "        (array(array(float))): Generated Embeddings\n",
        "    \"\"\"\n",
        "    embeddings_index = {}\n",
        "\n",
        "    with open(glove_path, encoding=\"utf-8\") as f:\n",
        "        for line in f:\n",
        "            values = line.split()\n",
        "            word = values[0]  # Word\n",
        "            vector = np.asarray(values[1:], dtype=\"float32\")  # Embedding vector\n",
        "            embeddings_index[word] = vector\n",
        "\n",
        "    # Create embedding matrix\n",
        "    embedding_matrix = np.zeros((len(word_index) + 1, embedding_dim))\n",
        "    for word, i in word_index.items():\n",
        "        embedding_vector = embeddings_index.get(word)\n",
        "        if embedding_vector is not None:\n",
        "            embedding_matrix[i] = embedding_vector  # Words found in GloVe\n",
        "\n",
        "    return embedding_matrix"
      ]
    },
    {
      "cell_type": "code",
      "execution_count": null,
      "metadata": {
        "colab": {
          "base_uri": "https://localhost:8080/"
        },
        "id": "-6DrZUUk-DSS",
        "outputId": "d6ed64c4-62d5-4e9d-bfff-3d2431f3d5ea"
      },
      "outputs": [
        {
          "output_type": "stream",
          "name": "stderr",
          "text": [
            "[nltk_data] Downloading package wordnet to /root/nltk_data...\n",
            "[nltk_data] Downloading package omw-1.4 to /root/nltk_data...\n",
            "[nltk_data] Downloading package stopwords to /root/nltk_data...\n",
            "[nltk_data]   Unzipping corpora/stopwords.zip.\n"
          ]
        }
      ],
      "source": [
        "# HELPER FUNCTIONS\n",
        "import re\n",
        "import numpy as np\n",
        "from tensorflow.keras.preprocessing.text import Tokenizer\n",
        "from nltk.stem import PorterStemmer\n",
        "from tensorflow.keras.preprocessing.sequence import pad_sequences\n",
        "import nltk\n",
        "from nltk.corpus import stopwords\n",
        "import string\n",
        "\n",
        "nltk.download('wordnet')\n",
        "nltk.download('omw-1.4')\n",
        "nltk.download('stopwords')\n",
        "exclude = string.punctuation\n",
        "stop_words = set(stopwords.words('english'))\n",
        "\n",
        "def remove_stopwords(text):\n",
        "  new_text = []\n",
        "  for word in text.split():\n",
        "    if word not in stop_words:\n",
        "      new_text.append(word)\n",
        "  return \" \".join(new_text)\n",
        "\n",
        "def remove_punc(text):\n",
        "    return text.translate(str.maketrans('', '', exclude))\n",
        "\n",
        "def remove_urls(text):\n",
        "    text = re.sub(r'http\\S+|www.\\S+', '', text)\n",
        "    return text\n",
        "\n",
        "def remove_numbers(text):\n",
        "    return re.sub(r'\\d+', '', text)\n",
        "\n",
        "def clean_text(X, max_sequence_length=100):\n",
        "  \"\"\"\n",
        "    Text cleaner: It does stemming, tokenization and embedding generation of the data\n",
        "    Args:\n",
        "      X (array(str)): Articles\n",
        "      y (array(int)): Categories of articles\n",
        "      max_sequence_length (int): Max length of sequence\n",
        "\n",
        "    Returns:\n",
        "      X_resampled, y_resampled, embedding_matrix, tokenizer\n",
        "  \"\"\"\n",
        "\n",
        "  lower_text_X = [text.lower() for text in X]\n",
        "  lower_text_X = [remove_urls(text) for text in lower_text_X]\n",
        "  lower_text_X = [remove_numbers(text) for text in lower_text_X]\n",
        "\n",
        "  no_punc_text_X = [remove_punc(text) for text in lower_text_X]\n",
        "\n",
        "  stop_word_clean_text_X = [remove_stopwords(word) for word in no_punc_text_X]\n",
        "\n",
        "  stemmer = PorterStemmer()\n",
        "  stemmed_text = [\" \".join([stemmer.stem(word) for word in sentence.split()]) for sentence in stop_word_clean_text_X]\n",
        "\n",
        "  # lemmatizer = WordNetLemmatizer()\n",
        "  # stemmed_text = [\" \".join([lemmatizer.lemmatize(word) for word in sentence.split()]) for sentence in stemmed_text]\n",
        "\n",
        "  tokenizer = Tokenizer(\n",
        "      filters='!\"#$%&()*+,-./:;<=>?@[\\\\]^_`{|}~\\tâ€\\n',\n",
        "      oov_token=\"<OOV>\",\n",
        "      lower=True,\n",
        "      num_words=30000)\n",
        "  tokenizer.fit_on_texts(stemmed_text)\n",
        "\n",
        "  sequences = tokenizer.texts_to_sequences(stemmed_text)\n",
        "  padded_sequences = pad_sequences(sequences, padding= \"post\",maxlen=max_sequence_length)\n",
        "\n",
        "  word_index = tokenizer.word_index\n",
        "  glove_path = \"/content/drive/MyDrive/Major Project/glove.6B.100d.txt\"\n",
        "  embedding_matrix = load_glove_embeddings(glove_path=glove_path, word_index=word_index)\n",
        "\n",
        "  return padded_sequences, embedding_matrix, tokenizer\n"
      ]
    },
    {
      "cell_type": "code",
      "execution_count": null,
      "metadata": {
        "id": "xp2cyqW9-VMt"
      },
      "outputs": [],
      "source": [
        "X_padded, embedding_matrix, tokenizer= clean_text(X, max_sequence_length=350)"
      ]
    },
    {
      "cell_type": "code",
      "source": [
        "try:\n",
        "    with open(f\"{base_path}/tests/current_model_count.txt\", \"r\") as file:\n",
        "        test_count = int(file.read())\n",
        "except FileNotFoundError:\n",
        "        test_count = 0\n",
        "test_count += 1"
      ],
      "metadata": {
        "id": "HSNzfmuWHYtA"
      },
      "execution_count": null,
      "outputs": []
    },
    {
      "cell_type": "code",
      "source": [
        "import pickle\n",
        "\n",
        "os.makedirs(f\"{base_path}/tests/test_{test_count}\", exist_ok=True)\n",
        "\n",
        "# Save padded sequences\n",
        "np.save(f\"{base_path}/tests/test_{test_count}/X_padded.npy\", X_padded)\n",
        "\n",
        "# Save embedding matrix\n",
        "np.save(f\"{base_path}/tests/test_{test_count}/embedding_matrix.npy\", embedding_matrix)\n",
        "\n",
        "# Save tokenizer\n",
        "with open(f\"{base_path}/tests/test_{test_count}/tokenizer.pkl\", \"wb\") as f:\n",
        "    pickle.dump(tokenizer, f)"
      ],
      "metadata": {
        "id": "m_sTxTL8G_L0"
      },
      "execution_count": null,
      "outputs": []
    },
    {
      "cell_type": "code",
      "execution_count": null,
      "metadata": {
        "id": "ZCpktZND-he1"
      },
      "outputs": [],
      "source": [
        "MAX_FEATURES = 196506\n",
        "from tensorflow.keras.layers import LSTM, Bidirectional, Dense, Embedding, Dropout, BatchNormalization\n",
        "from tensorflow.keras.models import Sequential\n",
        "\n",
        "def model_maker_LSTM(embedding_matrix, max_features=MAX_FEATURES, op_layer=3, embedding_dim=100):\n",
        "  model = Sequential()\n",
        "\n",
        "  model.add(Embedding(input_dim=max_features,\n",
        "                      output_dim=embedding_dim,\n",
        "                      weights=[embedding_matrix],\n",
        "                      trainable=True))\n",
        "\n",
        "  # LSTM Layer\n",
        "  model.add(Bidirectional(LSTM(128, activation=\"tanh\", return_sequences=True)))\n",
        "  model.add(Dropout(0.2))  # Prevent overfitting\n",
        "  model.add(Bidirectional(LSTM(64, activation=\"tanh\")))\n",
        "  # Batch Normalization\n",
        "  model.add(BatchNormalization())\n",
        "  model.add(Dense(64, activation='relu'))\n",
        "  model.add(Dropout(0.3))\n",
        "  model.add(Dense(32, activation='relu'))\n",
        "  model.add(Dropout(0.3))\n",
        "  model.add(Dense(32, activation='relu'))\n",
        "  model.add(Dropout(0.3))\n",
        "  # Output Layer (Softmax for multi-class classification)\n",
        "  model.add(Dense(op_layer, activation=\"softmax\"))\n",
        "\n",
        "  model.compile(optimizer='adam', loss='categorical_crossentropy', metrics=['accuracy'])\n",
        "\n",
        "  return model"
      ]
    },
    {
      "cell_type": "code",
      "source": [
        "def create_models(embedding_matrix):\n",
        "  models = {}\n",
        "  models[\"model_lstm\"] = model_maker_LSTM(embedding_matrix=embedding_matrix, op_layer=2)\n",
        "  return models"
      ],
      "metadata": {
        "id": "fqJDumC4F45q"
      },
      "execution_count": null,
      "outputs": []
    },
    {
      "cell_type": "code",
      "source": [
        "model = create_models(embedding_matrix=embedding_matrix)"
      ],
      "metadata": {
        "id": "b9-_GbkOGAXg"
      },
      "execution_count": null,
      "outputs": []
    },
    {
      "cell_type": "code",
      "source": [
        "from sklearn.model_selection import train_test_split\n",
        "from imblearn.over_sampling import RandomOverSampler\n",
        "\n",
        "def create_split_and_resampling(X, y):\n",
        "  print(\"Creating Split...\")\n",
        "  X_train, X_test, y_train, y_test = train_test_split(X, y, test_size=0.2, random_state=42, stratify=y)\n",
        "  X_train = np.array(X_train)\n",
        "  y_train = np.array(y_train)\n",
        "  # unique, counts = np.unique(y_res, return_counts=True)\n",
        "  y_train = to_categorical(y_train, num_classes=2)\n",
        "  # print(f\"Values resampled by {counts}\")\n",
        "  print(\"Split Created!\")\n",
        "  return X_train, y_train, X_test, y_test\n"
      ],
      "metadata": {
        "id": "L9avnGiOFpJD"
      },
      "execution_count": null,
      "outputs": []
    },
    {
      "cell_type": "code",
      "source": [
        "X_train, y_train, X_test, y_test = create_split_and_resampling(X=X_padded, y=y)"
      ],
      "metadata": {
        "colab": {
          "base_uri": "https://localhost:8080/"
        },
        "id": "DMPGQ1qOFrtG",
        "outputId": "6316dd71-3cd5-40a8-c431-68b176415810"
      },
      "execution_count": null,
      "outputs": [
        {
          "output_type": "stream",
          "name": "stdout",
          "text": [
            "Creating Split...\n",
            "Split Created!\n"
          ]
        }
      ]
    },
    {
      "cell_type": "code",
      "source": [
        "X_train.shape, y_train.shape, X_test.shape, y_test.shape"
      ],
      "metadata": {
        "colab": {
          "base_uri": "https://localhost:8080/"
        },
        "id": "4EhPYFyPIJlH",
        "outputId": "da0afe4c-a419-406b-f594-9fc3a2687c39"
      },
      "execution_count": null,
      "outputs": [
        {
          "output_type": "execute_result",
          "data": {
            "text/plain": [
              "((66831, 350), (66831, 2), (16708, 350), (16708,))"
            ]
          },
          "metadata": {},
          "execution_count": 49
        }
      ]
    },
    {
      "cell_type": "code",
      "source": [
        "from tensorflow.keras.callbacks import EarlyStopping\n",
        "\n",
        "early_stopping = EarlyStopping(monitor='val_loss', patience=5, restore_best_weights=True)\n",
        "\n",
        "def model_training(models, early_stopping, train_model=\"all\", class_weights_dict=None):\n",
        "\n",
        "  history = {}\n",
        "  for model_name, model in models.items():\n",
        "    if model_name in train_model or train_model == \"all\":\n",
        "      print(\"=\"*50)\n",
        "      print(f\"Training {model_name}...\")\n",
        "      history[model_name] = model.fit(\n",
        "        X_train, y_train,\n",
        "        epochs=50,\n",
        "        batch_size=16,\n",
        "        validation_split=0.2,\n",
        "        # class_weight = class_weights_dict,\n",
        "        callbacks=[early_stopping],\n",
        "      )\n",
        "      print(f\"{model_name} trained successfully!\")\n",
        "  print(\"MODEL(s) TRAINED SUCCESSFULLY\")\n",
        "\n",
        "  return history"
      ],
      "metadata": {
        "id": "XqmC3HqEF0cu"
      },
      "execution_count": null,
      "outputs": []
    },
    {
      "cell_type": "code",
      "source": [
        "history = model_training(model, early_stopping)"
      ],
      "metadata": {
        "colab": {
          "base_uri": "https://localhost:8080/"
        },
        "id": "qHaWI8nSGL0G",
        "outputId": "7342ff2f-ee82-4244-e005-ce41e62d32ae"
      },
      "execution_count": null,
      "outputs": [
        {
          "output_type": "stream",
          "name": "stdout",
          "text": [
            "==================================================\n",
            "Training model_lstm...\n",
            "Epoch 1/50\n",
            "\u001b[1m3342/3342\u001b[0m \u001b[32m━━━━━━━━━━━━━━━━━━━━\u001b[0m\u001b[37m\u001b[0m \u001b[1m252s\u001b[0m 72ms/step - accuracy: 0.9535 - loss: 0.1203 - val_accuracy: 0.9965 - val_loss: 0.0135\n",
            "Epoch 2/50\n",
            "\u001b[1m3342/3342\u001b[0m \u001b[32m━━━━━━━━━━━━━━━━━━━━\u001b[0m\u001b[37m\u001b[0m \u001b[1m245s\u001b[0m 73ms/step - accuracy: 0.9959 - loss: 0.0175 - val_accuracy: 0.9978 - val_loss: 0.0083\n",
            "Epoch 3/50\n",
            "\u001b[1m3342/3342\u001b[0m \u001b[32m━━━━━━━━━━━━━━━━━━━━\u001b[0m\u001b[37m\u001b[0m \u001b[1m257s\u001b[0m 77ms/step - accuracy: 0.9984 - loss: 0.0078 - val_accuracy: 0.9985 - val_loss: 0.0084\n",
            "Epoch 4/50\n",
            "\u001b[1m3342/3342\u001b[0m \u001b[32m━━━━━━━━━━━━━━━━━━━━\u001b[0m\u001b[37m\u001b[0m \u001b[1m241s\u001b[0m 71ms/step - accuracy: 0.9947 - loss: 0.0240 - val_accuracy: 0.9981 - val_loss: 0.0113\n",
            "Epoch 5/50\n",
            "\u001b[1m3342/3342\u001b[0m \u001b[32m━━━━━━━━━━━━━━━━━━━━\u001b[0m\u001b[37m\u001b[0m \u001b[1m248s\u001b[0m 67ms/step - accuracy: 0.9976 - loss: 0.0105 - val_accuracy: 0.9981 - val_loss: 0.0117\n",
            "Epoch 6/50\n",
            "\u001b[1m3342/3342\u001b[0m \u001b[32m━━━━━━━━━━━━━━━━━━━━\u001b[0m\u001b[37m\u001b[0m \u001b[1m218s\u001b[0m 65ms/step - accuracy: 0.9993 - loss: 0.0030 - val_accuracy: 0.9992 - val_loss: 0.0058\n",
            "Epoch 7/50\n",
            "\u001b[1m3342/3342\u001b[0m \u001b[32m━━━━━━━━━━━━━━━━━━━━\u001b[0m\u001b[37m\u001b[0m \u001b[1m267s\u001b[0m 67ms/step - accuracy: 0.9995 - loss: 0.0031 - val_accuracy: 0.9984 - val_loss: 0.0065\n",
            "Epoch 8/50\n",
            "\u001b[1m3342/3342\u001b[0m \u001b[32m━━━━━━━━━━━━━━━━━━━━\u001b[0m\u001b[37m\u001b[0m \u001b[1m261s\u001b[0m 67ms/step - accuracy: 0.9993 - loss: 0.0058 - val_accuracy: 0.9993 - val_loss: 0.0081\n",
            "Epoch 9/50\n",
            "\u001b[1m3342/3342\u001b[0m \u001b[32m━━━━━━━━━━━━━━━━━━━━\u001b[0m\u001b[37m\u001b[0m \u001b[1m262s\u001b[0m 67ms/step - accuracy: 0.9997 - loss: 0.0022 - val_accuracy: 0.9990 - val_loss: 0.0099\n",
            "Epoch 10/50\n",
            "\u001b[1m3342/3342\u001b[0m \u001b[32m━━━━━━━━━━━━━━━━━━━━\u001b[0m\u001b[37m\u001b[0m \u001b[1m258s\u001b[0m 66ms/step - accuracy: 0.9992 - loss: 0.0053 - val_accuracy: 0.9995 - val_loss: 0.0077\n",
            "Epoch 11/50\n",
            "\u001b[1m3342/3342\u001b[0m \u001b[32m━━━━━━━━━━━━━━━━━━━━\u001b[0m\u001b[37m\u001b[0m \u001b[1m266s\u001b[0m 67ms/step - accuracy: 0.9997 - loss: 0.0034 - val_accuracy: 0.9985 - val_loss: 0.0109\n",
            "model_lstm trained successfully!\n",
            "MODEL(s) TRAINED SUCCESSFULLY\n"
          ]
        }
      ]
    },
    {
      "cell_type": "code",
      "source": [
        "# SCRIPT FOR SAVING IMPORTANT MODEL\n",
        "def save_models(models):\n",
        "    os.makedirs(f\"{base_path}/tests/test_{test_count}/models\", exist_ok=True)\n",
        "    for model_name, model in models.items():\n",
        "        model.save(f\"{base_path}/tests/test_{test_count}/models/model_{model_name}.keras\")\n",
        "\n",
        "with open(f\"{base_path}/current_model_count.txt\", \"w\") as file:\n",
        "    file.write(str(test_count))\n"
      ],
      "metadata": {
        "id": "vVUZYSFfJD3h"
      },
      "execution_count": null,
      "outputs": []
    },
    {
      "cell_type": "code",
      "source": [
        "import os\n",
        "import numpy as np\n",
        "import seaborn as sns\n",
        "import matplotlib.pyplot as plt\n",
        "from sklearn.metrics import confusion_matrix, classification_report\n",
        "\n",
        "def print_confusion_matrix(predictions, y_test, save_fig=True):\n",
        "    cm_dir = os.path.join(base_path, f\"tests/test_{test_count}\", \"confusion_matrices\")\n",
        "    os.makedirs(cm_dir, exist_ok=True)\n",
        "\n",
        "    for model, prediction in predictions.items():\n",
        "        y_pred_labels = np.argmax(prediction, axis=1)\n",
        "        cm = confusion_matrix(y_test, y_pred_labels)\n",
        "        plt.figure(figsize=(6, 4))\n",
        "        sns.heatmap(cm, annot=True, fmt=\"d\", cmap=\"Blues\",\n",
        "                    xticklabels=['high', 'low'],\n",
        "                    yticklabels=['high', 'low'])\n",
        "        plt.xlabel(\"Predicted\")\n",
        "        plt.ylabel(\"Actual\")\n",
        "        plt.title(f\"{model} Confusion Matrix\")\n",
        "        plt.tight_layout()\n",
        "        if save_fig:\n",
        "          plt.savefig(os.path.join(cm_dir, f\"{model}_cm.png\"))\n",
        "        plt.show()\n",
        "        plt.close()\n",
        "\n",
        "def print_metrics(predictions, y_test):\n",
        "    metrics_path = os.path.join(base_path, f\"tests/test_{test_count}\", \"metrics.txt\")\n",
        "    os.makedirs(os.path.dirname(metrics_path), exist_ok=True)\n",
        "\n",
        "    with open(metrics_path, \"w\") as f:\n",
        "        for model, prediction in predictions.items():\n",
        "            y_pred_labels = np.argmax(prediction, axis=1)\n",
        "            report = classification_report(y_test, y_pred_labels, target_names=[\"High\", \"low\"])\n",
        "            print(f\"Metrics: {model}\")\n",
        "            print(\"=\" * 25)\n",
        "            print(report)\n",
        "            f.write(f\"Metrics: {model}\\n\")\n",
        "            f.write(\"=\" * 25 + \"\\n\")\n",
        "            f.write(report + \"\\n\\n\")"
      ],
      "metadata": {
        "id": "MTuZB8iTKHsJ"
      },
      "execution_count": null,
      "outputs": []
    },
    {
      "cell_type": "code",
      "source": [
        "save_models(model)"
      ],
      "metadata": {
        "id": "n5cWik9RK_fu"
      },
      "execution_count": null,
      "outputs": []
    },
    {
      "cell_type": "code",
      "source": [
        "predictions = {}\n",
        "predictions['model_lstm'] = model['model_lstm'].predict(X_test)"
      ],
      "metadata": {
        "colab": {
          "base_uri": "https://localhost:8080/"
        },
        "id": "9Cgqka7BTjF5",
        "outputId": "8db20e87-712c-4c9d-f87b-ded8773f272f"
      },
      "execution_count": null,
      "outputs": [
        {
          "output_type": "stream",
          "name": "stdout",
          "text": [
            "\u001b[1m523/523\u001b[0m \u001b[32m━━━━━━━━━━━━━━━━━━━━\u001b[0m\u001b[37m\u001b[0m \u001b[1m15s\u001b[0m 29ms/step\n"
          ]
        }
      ]
    },
    {
      "cell_type": "code",
      "source": [
        "predictions['model_lstm']"
      ],
      "metadata": {
        "colab": {
          "base_uri": "https://localhost:8080/"
        },
        "id": "ggfJLmhtU59R",
        "outputId": "ff06983f-2fd9-4fb1-e803-49e6c58108dd"
      },
      "execution_count": null,
      "outputs": [
        {
          "output_type": "execute_result",
          "data": {
            "text/plain": [
              "array([[1.0000000e+00, 7.8432694e-12],\n",
              "       [1.5173135e-10, 1.0000000e+00],\n",
              "       [1.0000000e+00, 4.3162834e-15],\n",
              "       ...,\n",
              "       [1.0000000e+00, 1.2125849e-12],\n",
              "       [9.3633986e-08, 9.9999988e-01],\n",
              "       [1.0000000e+00, 1.8137692e-12]], dtype=float32)"
            ]
          },
          "metadata": {},
          "execution_count": 71
        }
      ]
    },
    {
      "cell_type": "code",
      "source": [
        "print_metrics(y_test=y_test, predictions=predictions)\n",
        "print_confusion_matrix(y_test=y_test, predictions=predictions)"
      ],
      "metadata": {
        "colab": {
          "base_uri": "https://localhost:8080/",
          "height": 603
        },
        "id": "vnlCRR5fLBgn",
        "outputId": "bf9e0445-ade2-4907-9435-e40bd9455c23"
      },
      "execution_count": null,
      "outputs": [
        {
          "output_type": "stream",
          "name": "stdout",
          "text": [
            "Metrics: model_lstm\n",
            "=========================\n",
            "              precision    recall  f1-score   support\n",
            "\n",
            "        High       1.00      1.00      1.00      8186\n",
            "         low       1.00      1.00      1.00      8522\n",
            "\n",
            "    accuracy                           1.00     16708\n",
            "   macro avg       1.00      1.00      1.00     16708\n",
            "weighted avg       1.00      1.00      1.00     16708\n",
            "\n"
          ]
        },
        {
          "output_type": "display_data",
          "data": {
            "text/plain": [
              "<Figure size 600x400 with 2 Axes>"
            ],
            "image/png": "[encoded data removed]"
          },
          "metadata": {}
        }
      ]
    },
    {
      "cell_type": "code",
      "source": [
        "INFO_PATH = os.path.join(base_path, f\"tests/test_{test_count}\", \"info.txt\")\n",
        "with open(f\"{INFO_PATH}\", \"w+\") as f:\n",
        "  f.write(f\"TEST NUMBER: {test_count}\\n\")\n",
        "  f.write(\"BATCH SIZE = 16\\n\")\n",
        "  f.write(\"WORDS = 350\\n\")\n",
        "  f.write(\"30,000 VOCABULARY\\n\")\n",
        "  f.write(\"MODEL: LSTM\\n\")\n",
        "  f.write(\"NLP: TEXT CLEANING(stopwords, punc removal), stemming, tokenization(with filtration), padded sequence(POST)\\n\")\n",
        "  f.write(\"EMBEDDING: GLOVE\\n\")\n"
      ],
      "metadata": {
        "id": "9Z4gLLgaLDku"
      },
      "execution_count": null,
      "outputs": []
    },
    {
      "cell_type": "code",
      "source": [
        "import os\n",
        "import matplotlib.pyplot as plt\n",
        "from sklearn.metrics import roc_curve, auc\n",
        "from sklearn.preprocessing import label_binarize\n",
        "import numpy as np\n",
        "\n",
        "def plot_roc_curve(y_true, y_pred_prob, n_classes=2, title=\"ROC Curve - Soft Voting Ensemble\", save_fig=True):\n",
        "\n",
        "    # Class labels for your specific case\n",
        "    classes = {\n",
        "        0: \"High\",\n",
        "        1: \"Low\",\n",
        "    }\n",
        "\n",
        "    # Step 1: Binarize the labels\n",
        "    y_true_bin = label_binarize(y_true, classes=list(range(n_classes)))\n",
        "\n",
        "    if n_classes == 2:\n",
        "        y_true_bin = np.hstack((1 - y_true_bin, y_true_bin))  # make it (n_samples, 2)\n",
        "\n",
        "    # Step 2: Compute ROC and AUC for each class\n",
        "    fpr, tpr, roc_auc = {}, {}, {}\n",
        "    for i in range(n_classes):\n",
        "        fpr[i], tpr[i], _ = roc_curve(y_true_bin[:, i], y_pred_prob[:, i])\n",
        "        roc_auc[i] = auc(fpr[i], tpr[i])\n",
        "\n",
        "    # Compute macro-average ROC\n",
        "    all_fpr = np.unique(np.concatenate([fpr[i] for i in range(n_classes)]))\n",
        "    mean_tpr = np.zeros_like(all_fpr)\n",
        "\n",
        "    for i in range(n_classes):\n",
        "        mean_tpr += np.interp(all_fpr, fpr[i], tpr[i])\n",
        "\n",
        "    mean_tpr /= n_classes\n",
        "    fpr[\"macro\"] = all_fpr\n",
        "    tpr[\"macro\"] = mean_tpr\n",
        "    roc_auc[\"macro\"] = auc(fpr[\"macro\"], tpr[\"macro\"])\n",
        "\n",
        "    # Step 3: Plot\n",
        "    plt.figure(figsize=(8, 6))\n",
        "    colors = ['green', 'red']\n",
        "    for i, color in zip(range(n_classes), colors):\n",
        "        plt.plot(fpr[i], tpr[i], color=color,\n",
        "                 label=f'{classes[i]} (AUC = {roc_auc[i]:.2f})')\n",
        "\n",
        "    plt.plot(fpr[\"macro\"], tpr[\"macro\"], color='black', linestyle='--', label=f\"Macro Avg (AUC = {roc_auc['macro']:.2f})\")\n",
        "\n",
        "    plt.plot([0, 1], [0, 1], 'k--', label='Random Guess')\n",
        "\n",
        "    plt.xlim([0.0, 1.0])\n",
        "    plt.ylim([0.0, 1.05])\n",
        "    plt.xlabel('False Positive Rate')\n",
        "    plt.ylabel('True Positive Rate')\n",
        "    plt.title(title)\n",
        "    plt.legend(loc='lower right')\n",
        "    plt.grid()\n",
        "    plt.tight_layout()\n",
        "\n",
        "\n",
        "    if save_fig:\n",
        "        metric_dir = os.path.join(base_path, f\"tests/test_{test_count}/metric_curves\")\n",
        "        os.makedirs(metric_dir, exist_ok=True)\n",
        "\n",
        "        plt.savefig(os.path.join(metric_dir, f\"{title}_roc_curve.png\"))\n",
        "        print(f\"ROC curve saved to {metric_dir}/roc_curve.png\")\n",
        "\n",
        "    plt.show()"
      ],
      "metadata": {
        "id": "LfO-iesfUY9g"
      },
      "execution_count": null,
      "outputs": []
    },
    {
      "cell_type": "code",
      "source": [
        "plot_roc_curve(y_pred_prob=predictions['model_lstm'], y_true=y_test)"
      ],
      "metadata": {
        "colab": {
          "base_uri": "https://localhost:8080/",
          "height": 645
        },
        "id": "6doyeTvjUnZ_",
        "outputId": "a5f0f39f-641d-4bd6-a582-b909b182ff34"
      },
      "execution_count": null,
      "outputs": [
        {
          "output_type": "stream",
          "name": "stdout",
          "text": [
            "ROC curve saved to /content/drive/MyDrive/Sensationalism and Opinionism (Fake News) detection/tests/test_1/metric_curves/roc_curve.png\n"
          ]
        },
        {
          "output_type": "display_data",
          "data": {
            "text/plain": [
              "<Figure size 800x600 with 1 Axes>"
            ],
            "image/png": "[encoded data removed]"
          },
          "metadata": {}
        }
      ]
    },
    {
      "cell_type": "code",
      "source": [
        "predictions['model_lstm'].shape"
      ],
      "metadata": {
        "colab": {
          "base_uri": "https://localhost:8080/"
        },
        "id": "uiWte0jBVJHi",
        "outputId": "499cf04b-66ed-47d4-80ea-e6e488346a83"
      },
      "execution_count": null,
      "outputs": [
        {
          "output_type": "execute_result",
          "data": {
            "text/plain": [
              "(16708, 2)"
            ]
          },
          "metadata": {},
          "execution_count": 73
        }
      ]
    },
    {
      "cell_type": "code",
      "source": [
        "from sklearn.preprocessing import label_binarize\n",
        "\n",
        "y_test.shape, predictions['model_lstm'].shape"
      ],
      "metadata": {
        "colab": {
          "base_uri": "https://localhost:8080/"
        },
        "id": "qVoU3sLBVYEt",
        "outputId": "03417f5b-b503-49a6-f7de-dba59bbed8a1"
      },
      "execution_count": null,
      "outputs": [
        {
          "output_type": "execute_result",
          "data": {
            "text/plain": [
              "((16708,), (16708, 2))"
            ]
          },
          "metadata": {},
          "execution_count": 104
        }
      ]
    },
    {
      "cell_type": "code",
      "source": [
        "y_test, predictions['model_lstm']"
      ],
      "metadata": {
        "colab": {
          "base_uri": "https://localhost:8080/"
        },
        "id": "LygApk4nXCPD",
        "outputId": "5c893ac5-808e-47a1-a56b-e8441182005b"
      },
      "execution_count": null,
      "outputs": [
        {
          "output_type": "execute_result",
          "data": {
            "text/plain": [
              "(array([0, 1, 0, ..., 0, 1, 0]),\n",
              " array([[1.0000000e+00, 7.8432694e-12],\n",
              "        [1.5173135e-10, 1.0000000e+00],\n",
              "        [1.0000000e+00, 4.3162834e-15],\n",
              "        ...,\n",
              "        [1.0000000e+00, 1.2125849e-12],\n",
              "        [9.3633986e-08, 9.9999988e-01],\n",
              "        [1.0000000e+00, 1.8137692e-12]], dtype=float32))"
            ]
          },
          "metadata": {},
          "execution_count": 105
        }
      ]
    },
    {
      "cell_type": "code",
      "source": [
        "text = \"The Delhi Cabinet Tuesday approved a draft Bill to regulate fees in private schools, weeks after several parents protested outside the Directorate of Education (DoE) office, demanding the rollback of hiked school fees for their wards. Following the continuous protests by parents, DoE said earlier this month it has initiated a probe against the private unaided schools which are illegally hiking fees, and the action would include de-recognition and possible takeover of school managements. Addressing a press conference, CM Gupta said, 'We have passed a draft Bill in the Cabinet meeting, applicable to all 1,677 aided and unaided private schools, to fix guidelines and procedures for fee hikes…” The Delhi chief minister said there were complaints, and the parents were in panic due to the fee hikes. 'Several parents also complained that the school administrations were pressuring their children in school over the fees. We sent out DMs to conduct a detailed study, understand how the fees were hiked in schools, and what the procedures were to regulate fees. We found that no previous government took any steps to regulate fee hikes in schools.'Gupta said that after undertaking detailed studies, the government took action. “Since 1973, there has been no provision to address this fee hike issue. But, today I am happy to say that the Delhi government has taken a historic and brave decision to regulate fees in private and government schools,' she said.\""
      ],
      "metadata": {
        "id": "0gqCE5IWZVnK"
      },
      "execution_count": null,
      "outputs": []
    },
    {
      "cell_type": "code",
      "source": [
        "def pred_pipeline(text, model):\n",
        "    lower_text_X = text.lower()\n",
        "    lower_text_X = remove_urls(text)\n",
        "    lower_text_X = remove_numbers(text)\n",
        "\n",
        "    no_punc_text_X = remove_punc(text)\n",
        "    stop_word_clean_text_X = [remove_stopwords(word) for word in no_punc_text_X]\n",
        "\n",
        "    stemmer = PorterStemmer()\n",
        "    stemmed_text = [\" \".join([stemmer.stem(word) for word in text.split()])]\n",
        "\n",
        "    # lemmatizer = WordNetLemmatizer()\n",
        "    # stemmed_text = [\" \".join([lemmatizer.lemmatize(word) for word in sentence.split()]) for sentence in stemmed_text]\n",
        "\n",
        "    with open(f\"{base_path}/tests/test_{test_count}/tokenizer.pkl\", \"wb\") as f:\n",
        "        tokenizer = pickle.load(tokenizer, f)\n",
        "\n",
        "    sequences = tokenizer.texts_to_sequences(stemmed_text)\n",
        "    padded_sequences = pad_sequences(sequences, padding= \"post\",maxlen=350)\n",
        "\n",
        "    return np.argmax(model.predict(padded_sequences))"
      ],
      "metadata": {
        "id": "G9Y-SIRuZpTj"
      },
      "execution_count": null,
      "outputs": []
    },
    {
      "cell_type": "code",
      "source": [
        "pred_pipeline(text, model['model_lstm'])"
      ],
      "metadata": {
        "colab": {
          "base_uri": "https://localhost:8080/"
        },
        "id": "JyFJ1__CaMro",
        "outputId": "9397b4d2-3d74-46a3-b58a-a9789a39fdea"
      },
      "execution_count": null,
      "outputs": [
        {
          "output_type": "stream",
          "name": "stdout",
          "text": [
            "\u001b[1m1/1\u001b[0m \u001b[32m━━━━━━━━━━━━━━━━━━━━\u001b[0m\u001b[37m\u001b[0m \u001b[1m0s\u001b[0m 52ms/step\n"
          ]
        },
        {
          "output_type": "execute_result",
          "data": {
            "text/plain": [
              "np.int64(0)"
            ]
          },
          "metadata": {},
          "execution_count": 140
        }
      ]
    }
  ],
  "metadata": {
    "colab": {
      "provenance": [],
      "gpuType": "T4"
    },
    "kernelspec": {
      "display_name": "Python 3",
      "name": "python3"
    },
    "language_info": {
      "name": "python"
    },
    "accelerator": "GPU"
  },
  "nbformat": 4,
  "nbformat_minor": 0
}